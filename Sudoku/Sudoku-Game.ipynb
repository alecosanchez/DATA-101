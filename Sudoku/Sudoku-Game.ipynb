{
 "cells": [
  {
   "cell_type": "code",
   "execution_count": 12,
   "metadata": {},
   "outputs": [
    {
     "name": "stdout",
     "output_type": "stream",
     "text": [
      "0 [3, 2, 1, 4]\n",
      "1 [4, 1, 2, 3]\n",
      "2 [2, 3, 4, 1]\n",
      "3 [1, 4, 3, 2]\n",
      "in 52 tries\n"
     ]
    }
   ],
   "source": [
    "def sudoku(size):\n",
    "    import random as rn\n",
    "    mydict = {}\n",
    "    n = 0\n",
    "    while len(mydict) < 4:\n",
    "        n += 1\n",
    "        x = range(1, size+1)\n",
    "        testlist = rn.sample(x, len(x))\n",
    "\n",
    "        isgood = True\n",
    "        for dictid,savedlist in mydict.items():\n",
    "            if isgood == False:\n",
    "                break\n",
    "            for v in savedlist:\n",
    "                if testlist[savedlist.index(v)] == v:\n",
    "                    isgood = False\n",
    "                    break\n",
    "        if isgood == True:\n",
    "            #print 'success', testlist\n",
    "            mydict[len(mydict)] = testlist\n",
    "    return mydict, n\n",
    "\n",
    "return_dict, total_tries = sudoku(4)\n",
    "for n,v in return_dict.items():\n",
    "    print (n,v)\n",
    "print('in',total_tries,'tries')"
   ]
  },
  {
   "cell_type": "code",
   "execution_count": null,
   "metadata": {},
   "outputs": [],
   "source": []
  },
  {
   "cell_type": "code",
   "execution_count": null,
   "metadata": {},
   "outputs": [],
   "source": []
  }
 ],
 "metadata": {
  "kernelspec": {
   "display_name": "Python 3",
   "language": "python",
   "name": "python3"
  },
  "language_info": {
   "codemirror_mode": {
    "name": "ipython",
    "version": 3
   },
   "file_extension": ".py",
   "mimetype": "text/x-python",
   "name": "python",
   "nbconvert_exporter": "python",
   "pygments_lexer": "ipython3",
   "version": "3.8.3"
  }
 },
 "nbformat": 4,
 "nbformat_minor": 4
}
